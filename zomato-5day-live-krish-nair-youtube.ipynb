{
 "cells": [
  {
   "cell_type": "code",
   "execution_count": 1,
   "id": "d1408301",
   "metadata": {
    "_cell_guid": "b1076dfc-b9ad-4769-8c92-a6c4dae69d19",
    "_uuid": "8f2839f25d086af736a60e9eeb907d3b93b6e0e5",
    "execution": {
     "iopub.execute_input": "2024-08-02T14:45:19.761518Z",
     "iopub.status.busy": "2024-08-02T14:45:19.761055Z",
     "iopub.status.idle": "2024-08-02T14:45:20.836746Z",
     "shell.execute_reply": "2024-08-02T14:45:20.835535Z"
    },
    "papermill": {
     "duration": 1.083839,
     "end_time": "2024-08-02T14:45:20.839924",
     "exception": false,
     "start_time": "2024-08-02T14:45:19.756085",
     "status": "completed"
    },
    "tags": []
   },
   "outputs": [
    {
     "name": "stdout",
     "output_type": "stream",
     "text": [
      "dirname: /kaggle/input\n",
      "no file in the directory!! \n",
      "\n",
      "dirname: /kaggle/input/5-days-live-eda-and-feateng-krishnaik-youtube\n",
      "no file in the directory!! \n",
      "\n",
      "dirname: /kaggle/input/5-days-live-eda-and-feateng-krishnaik-youtube/5-Days-Live-EDA-and-Feature-Engineering-main\n",
      "/kaggle/input/5-days-live-eda-and-feateng-krishnaik-youtube/5-Days-Live-EDA-and-Feature-Engineering-main/1-EDA And Feature Engineering.ipynb\n",
      "/kaggle/input/5-days-live-eda-and-feateng-krishnaik-youtube/5-Days-Live-EDA-and-Feature-Engineering-main/LICENSE\n",
      "/kaggle/input/5-days-live-eda-and-feateng-krishnaik-youtube/5-Days-Live-EDA-and-Feature-Engineering-main/README.md\n",
      "/kaggle/input/5-days-live-eda-and-feateng-krishnaik-youtube/5-Days-Live-EDA-and-Feature-Engineering-main/2- BlackFriday EDA And Feature Engineering.ipynb\n",
      "dirname: /kaggle/input/5-days-live-eda-and-feateng-krishnaik-youtube/5-Days-Live-EDA-and-Feature-Engineering-main/Flight Prediction\n",
      "/kaggle/input/5-days-live-eda-and-feateng-krishnaik-youtube/5-Days-Live-EDA-and-Feature-Engineering-main/Flight Prediction/FlightPrediction.ipynb\n",
      "/kaggle/input/5-days-live-eda-and-feateng-krishnaik-youtube/5-Days-Live-EDA-and-Feature-Engineering-main/Flight Prediction/Data_Train.xlsx\n",
      "/kaggle/input/5-days-live-eda-and-feateng-krishnaik-youtube/5-Days-Live-EDA-and-Feature-Engineering-main/Flight Prediction/Test_set.xlsx\n",
      "dirname: /kaggle/input/5-days-live-eda-and-feateng-krishnaik-youtube/5-Days-Live-EDA-and-Feature-Engineering-main/Zomatodataset\n",
      "/kaggle/input/5-days-live-eda-and-feateng-krishnaik-youtube/5-Days-Live-EDA-and-Feature-Engineering-main/Zomatodataset/Untitled.ipynb\n",
      "/kaggle/input/5-days-live-eda-and-feateng-krishnaik-youtube/5-Days-Live-EDA-and-Feature-Engineering-main/Zomatodataset/zomato.csv\n",
      "/kaggle/input/5-days-live-eda-and-feateng-krishnaik-youtube/5-Days-Live-EDA-and-Feature-Engineering-main/Zomatodataset/file5.json\n",
      "/kaggle/input/5-days-live-eda-and-feateng-krishnaik-youtube/5-Days-Live-EDA-and-Feature-Engineering-main/Zomatodataset/file1.json\n",
      "/kaggle/input/5-days-live-eda-and-feateng-krishnaik-youtube/5-Days-Live-EDA-and-Feature-Engineering-main/Zomatodataset/file2.json\n",
      "/kaggle/input/5-days-live-eda-and-feateng-krishnaik-youtube/5-Days-Live-EDA-and-Feature-Engineering-main/Zomatodataset/file4.json\n",
      "/kaggle/input/5-days-live-eda-and-feateng-krishnaik-youtube/5-Days-Live-EDA-and-Feature-Engineering-main/Zomatodataset/file3.json\n",
      "/kaggle/input/5-days-live-eda-and-feateng-krishnaik-youtube/5-Days-Live-EDA-and-Feature-Engineering-main/Zomatodataset/Country-Code.xlsx\n"
     ]
    }
   ],
   "source": [
    "# This Python 3 environment comes with many helpful analytics libraries installed\n",
    "# It is defined by the kaggle/python Docker image: https://github.com/kaggle/docker-python\n",
    "# For example, here's several helpful packages to load\n",
    "\n",
    "import numpy as np # linear algebra\n",
    "import pandas as pd # data processing, CSV file I/O (e.g. pd.read_csv)\n",
    "\n",
    "# Input data files are available in the read-only \"../input/\" directory\n",
    "# For example, running this (by clicking run or pressing Shift+Enter) will list all files under the input directory\n",
    "\n",
    "import os\n",
    "\n",
    "for dirname, _, filenames in os.walk('/kaggle/input'):\n",
    "    print(\"dirname:\" , dirname)\n",
    "    if len(filenames) == 0 :\n",
    "        print(\"no file in the directory!! \")  \n",
    "        print('')\n",
    "        \n",
    "    else:\n",
    "        for filename in filenames:\n",
    "            print(os.path.join(dirname, filename))\n",
    "        \n",
    "\n",
    "# You can write up to 20GB to the current directory (/kaggle/working/) that gets preserved as output when you create a version using \"Save & Run All\" \n",
    "# You can also write temporary files to /kaggle/temp/, but they won't be saved outside of the current session"
   ]
  },
  {
   "cell_type": "code",
   "execution_count": null,
   "id": "ab201f8b",
   "metadata": {
    "papermill": {
     "duration": 0.002353,
     "end_time": "2024-08-02T14:45:20.845227",
     "exception": false,
     "start_time": "2024-08-02T14:45:20.842874",
     "status": "completed"
    },
    "tags": []
   },
   "outputs": [],
   "source": []
  },
  {
   "cell_type": "code",
   "execution_count": null,
   "id": "51402f24",
   "metadata": {
    "papermill": {
     "duration": 0.002099,
     "end_time": "2024-08-02T14:45:20.849791",
     "exception": false,
     "start_time": "2024-08-02T14:45:20.847692",
     "status": "completed"
    },
    "tags": []
   },
   "outputs": [],
   "source": []
  }
 ],
 "metadata": {
  "kaggle": {
   "accelerator": "none",
   "dataSources": [
    {
     "datasetId": 5485318,
     "sourceId": 9090225,
     "sourceType": "datasetVersion"
    }
   ],
   "dockerImageVersionId": 30746,
   "isGpuEnabled": false,
   "isInternetEnabled": true,
   "language": "python",
   "sourceType": "notebook"
  },
  "kernelspec": {
   "display_name": "Python 3",
   "language": "python",
   "name": "python3"
  },
  "language_info": {
   "codemirror_mode": {
    "name": "ipython",
    "version": 3
   },
   "file_extension": ".py",
   "mimetype": "text/x-python",
   "name": "python",
   "nbconvert_exporter": "python",
   "pygments_lexer": "ipython3",
   "version": "3.10.13"
  },
  "papermill": {
   "default_parameters": {},
   "duration": 5.091532,
   "end_time": "2024-08-02T14:45:21.577794",
   "environment_variables": {},
   "exception": null,
   "input_path": "__notebook__.ipynb",
   "output_path": "__notebook__.ipynb",
   "parameters": {},
   "start_time": "2024-08-02T14:45:16.486262",
   "version": "2.5.0"
  }
 },
 "nbformat": 4,
 "nbformat_minor": 5
}
